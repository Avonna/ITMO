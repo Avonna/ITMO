{
  "nbformat": 4,
  "nbformat_minor": 0,
  "metadata": {
    "colab": {
      "provenance": [],
      "include_colab_link": true
    },
    "kernelspec": {
      "name": "python3",
      "display_name": "Python 3"
    },
    "language_info": {
      "name": "python"
    }
  },
  "cells": [
    {
      "cell_type": "markdown",
      "metadata": {
        "id": "view-in-github",
        "colab_type": "text"
      },
      "source": [
        "<a href=\"https://colab.research.google.com/github/Avonna/ITMO/blob/master/%D0%90%D1%82%D1%82%D0%B5%D1%81%D1%82%D0%B0%D1%86%D0%B8%D1%8F2___%D0%98%D0%A2%D0%9C%D0%9E.ipynb\" target=\"_parent\"><img src=\"https://colab.research.google.com/assets/colab-badge.svg\" alt=\"Open In Colab\"/></a>"
      ]
    },
    {
      "cell_type": "markdown",
      "metadata": {
        "id": "evJDqJcR3j__"
      },
      "source": [
        "# Итоговое задание"
      ]
    },
    {
      "cell_type": "markdown",
      "metadata": {
        "id": "uV_hDE4m3WUP"
      },
      "source": [
        "Загрузим данные непосредственно из задания (по ссылке)."
      ]
    },
    {
      "cell_type": "code",
      "metadata": {
        "id": "PDLc3RlXxRRE"
      },
      "source": [
        "import pandas as pd\n",
        "import warnings\n",
        "warnings.filterwarnings('ignore')\n",
        "link = 'https://courses.openedu.ru/assets/courseware/v1/431a30c4a3a2b3f265f8cce1a809aa0f/asset-v1:ITMOUniversity+DATANTECH2035+cifru_2035+type@asset+block/pulsar_stars_new.csv'\n",
        "stars = pd.read_csv(link)"
      ],
      "execution_count": 1,
      "outputs": []
    },
    {
      "cell_type": "markdown",
      "metadata": {
        "id": "vxLadOPv3Z2T"
      },
      "source": [
        "Убедимся, что данные загружены корректно"
      ]
    },
    {
      "cell_type": "code",
      "metadata": {
        "id": "nv7atsJQxQmO",
        "colab": {
          "base_uri": "https://localhost:8080/",
          "height": 206
        },
        "outputId": "43712593-63f4-4b12-ae15-6eea6e6dffe0"
      },
      "source": [
        "stars.head()"
      ],
      "execution_count": 2,
      "outputs": [
        {
          "output_type": "execute_result",
          "data": {
            "text/plain": [
              "          MIP      STDIP      EKIP       SIP        MC       STDC        EKC  \\\n",
              "0  140.562500  55.683782 -0.234571 -0.699648  3.199833  19.110426   7.975532   \n",
              "1  102.507812  58.882430  0.465318 -0.515088  1.677258  14.860146  10.576487   \n",
              "2  103.015625  39.341649  0.323328  1.051164  3.121237  21.744669   7.735822   \n",
              "3  136.750000  57.178449 -0.068415 -0.636238  3.642977  20.959280   6.896499   \n",
              "4   88.726562  40.672225  0.600866  1.123492  1.178930  11.468720  14.269573   \n",
              "\n",
              "           SC  TG  \n",
              "0   74.242225   0  \n",
              "1  127.393580   0  \n",
              "2   63.171909   0  \n",
              "3   53.593661   0  \n",
              "4  252.567306   0  "
            ],
            "text/html": [
              "\n",
              "  <div id=\"df-3dcafa95-23da-4fe2-bc3f-5bc358007388\">\n",
              "    <div class=\"colab-df-container\">\n",
              "      <div>\n",
              "<style scoped>\n",
              "    .dataframe tbody tr th:only-of-type {\n",
              "        vertical-align: middle;\n",
              "    }\n",
              "\n",
              "    .dataframe tbody tr th {\n",
              "        vertical-align: top;\n",
              "    }\n",
              "\n",
              "    .dataframe thead th {\n",
              "        text-align: right;\n",
              "    }\n",
              "</style>\n",
              "<table border=\"1\" class=\"dataframe\">\n",
              "  <thead>\n",
              "    <tr style=\"text-align: right;\">\n",
              "      <th></th>\n",
              "      <th>MIP</th>\n",
              "      <th>STDIP</th>\n",
              "      <th>EKIP</th>\n",
              "      <th>SIP</th>\n",
              "      <th>MC</th>\n",
              "      <th>STDC</th>\n",
              "      <th>EKC</th>\n",
              "      <th>SC</th>\n",
              "      <th>TG</th>\n",
              "    </tr>\n",
              "  </thead>\n",
              "  <tbody>\n",
              "    <tr>\n",
              "      <th>0</th>\n",
              "      <td>140.562500</td>\n",
              "      <td>55.683782</td>\n",
              "      <td>-0.234571</td>\n",
              "      <td>-0.699648</td>\n",
              "      <td>3.199833</td>\n",
              "      <td>19.110426</td>\n",
              "      <td>7.975532</td>\n",
              "      <td>74.242225</td>\n",
              "      <td>0</td>\n",
              "    </tr>\n",
              "    <tr>\n",
              "      <th>1</th>\n",
              "      <td>102.507812</td>\n",
              "      <td>58.882430</td>\n",
              "      <td>0.465318</td>\n",
              "      <td>-0.515088</td>\n",
              "      <td>1.677258</td>\n",
              "      <td>14.860146</td>\n",
              "      <td>10.576487</td>\n",
              "      <td>127.393580</td>\n",
              "      <td>0</td>\n",
              "    </tr>\n",
              "    <tr>\n",
              "      <th>2</th>\n",
              "      <td>103.015625</td>\n",
              "      <td>39.341649</td>\n",
              "      <td>0.323328</td>\n",
              "      <td>1.051164</td>\n",
              "      <td>3.121237</td>\n",
              "      <td>21.744669</td>\n",
              "      <td>7.735822</td>\n",
              "      <td>63.171909</td>\n",
              "      <td>0</td>\n",
              "    </tr>\n",
              "    <tr>\n",
              "      <th>3</th>\n",
              "      <td>136.750000</td>\n",
              "      <td>57.178449</td>\n",
              "      <td>-0.068415</td>\n",
              "      <td>-0.636238</td>\n",
              "      <td>3.642977</td>\n",
              "      <td>20.959280</td>\n",
              "      <td>6.896499</td>\n",
              "      <td>53.593661</td>\n",
              "      <td>0</td>\n",
              "    </tr>\n",
              "    <tr>\n",
              "      <th>4</th>\n",
              "      <td>88.726562</td>\n",
              "      <td>40.672225</td>\n",
              "      <td>0.600866</td>\n",
              "      <td>1.123492</td>\n",
              "      <td>1.178930</td>\n",
              "      <td>11.468720</td>\n",
              "      <td>14.269573</td>\n",
              "      <td>252.567306</td>\n",
              "      <td>0</td>\n",
              "    </tr>\n",
              "  </tbody>\n",
              "</table>\n",
              "</div>\n",
              "      <button class=\"colab-df-convert\" onclick=\"convertToInteractive('df-3dcafa95-23da-4fe2-bc3f-5bc358007388')\"\n",
              "              title=\"Convert this dataframe to an interactive table.\"\n",
              "              style=\"display:none;\">\n",
              "        \n",
              "  <svg xmlns=\"http://www.w3.org/2000/svg\" height=\"24px\"viewBox=\"0 0 24 24\"\n",
              "       width=\"24px\">\n",
              "    <path d=\"M0 0h24v24H0V0z\" fill=\"none\"/>\n",
              "    <path d=\"M18.56 5.44l.94 2.06.94-2.06 2.06-.94-2.06-.94-.94-2.06-.94 2.06-2.06.94zm-11 1L8.5 8.5l.94-2.06 2.06-.94-2.06-.94L8.5 2.5l-.94 2.06-2.06.94zm10 10l.94 2.06.94-2.06 2.06-.94-2.06-.94-.94-2.06-.94 2.06-2.06.94z\"/><path d=\"M17.41 7.96l-1.37-1.37c-.4-.4-.92-.59-1.43-.59-.52 0-1.04.2-1.43.59L10.3 9.45l-7.72 7.72c-.78.78-.78 2.05 0 2.83L4 21.41c.39.39.9.59 1.41.59.51 0 1.02-.2 1.41-.59l7.78-7.78 2.81-2.81c.8-.78.8-2.07 0-2.86zM5.41 20L4 18.59l7.72-7.72 1.47 1.35L5.41 20z\"/>\n",
              "  </svg>\n",
              "      </button>\n",
              "      \n",
              "  <style>\n",
              "    .colab-df-container {\n",
              "      display:flex;\n",
              "      flex-wrap:wrap;\n",
              "      gap: 12px;\n",
              "    }\n",
              "\n",
              "    .colab-df-convert {\n",
              "      background-color: #E8F0FE;\n",
              "      border: none;\n",
              "      border-radius: 50%;\n",
              "      cursor: pointer;\n",
              "      display: none;\n",
              "      fill: #1967D2;\n",
              "      height: 32px;\n",
              "      padding: 0 0 0 0;\n",
              "      width: 32px;\n",
              "    }\n",
              "\n",
              "    .colab-df-convert:hover {\n",
              "      background-color: #E2EBFA;\n",
              "      box-shadow: 0px 1px 2px rgba(60, 64, 67, 0.3), 0px 1px 3px 1px rgba(60, 64, 67, 0.15);\n",
              "      fill: #174EA6;\n",
              "    }\n",
              "\n",
              "    [theme=dark] .colab-df-convert {\n",
              "      background-color: #3B4455;\n",
              "      fill: #D2E3FC;\n",
              "    }\n",
              "\n",
              "    [theme=dark] .colab-df-convert:hover {\n",
              "      background-color: #434B5C;\n",
              "      box-shadow: 0px 1px 3px 1px rgba(0, 0, 0, 0.15);\n",
              "      filter: drop-shadow(0px 1px 2px rgba(0, 0, 0, 0.3));\n",
              "      fill: #FFFFFF;\n",
              "    }\n",
              "  </style>\n",
              "\n",
              "      <script>\n",
              "        const buttonEl =\n",
              "          document.querySelector('#df-3dcafa95-23da-4fe2-bc3f-5bc358007388 button.colab-df-convert');\n",
              "        buttonEl.style.display =\n",
              "          google.colab.kernel.accessAllowed ? 'block' : 'none';\n",
              "\n",
              "        async function convertToInteractive(key) {\n",
              "          const element = document.querySelector('#df-3dcafa95-23da-4fe2-bc3f-5bc358007388');\n",
              "          const dataTable =\n",
              "            await google.colab.kernel.invokeFunction('convertToInteractive',\n",
              "                                                     [key], {});\n",
              "          if (!dataTable) return;\n",
              "\n",
              "          const docLinkHtml = 'Like what you see? Visit the ' +\n",
              "            '<a target=\"_blank\" href=https://colab.research.google.com/notebooks/data_table.ipynb>data table notebook</a>'\n",
              "            + ' to learn more about interactive tables.';\n",
              "          element.innerHTML = '';\n",
              "          dataTable['output_type'] = 'display_data';\n",
              "          await google.colab.output.renderOutput(dataTable, element);\n",
              "          const docLink = document.createElement('div');\n",
              "          docLink.innerHTML = docLinkHtml;\n",
              "          element.appendChild(docLink);\n",
              "        }\n",
              "      </script>\n",
              "    </div>\n",
              "  </div>\n",
              "  "
            ]
          },
          "metadata": {},
          "execution_count": 2
        }
      ]
    },
    {
      "cell_type": "markdown",
      "metadata": {
        "id": "_cYcpBcQ3cVD"
      },
      "source": [
        "Выберем только интересующие нас данные"
      ]
    },
    {
      "cell_type": "code",
      "metadata": {
        "id": "9ADJGJvBZyO2",
        "colab": {
          "base_uri": "https://localhost:8080/",
          "height": 423
        },
        "outputId": "56254368-a2bd-4a86-c1ad-041e1dfd2e8e"
      },
      "source": [
        "stars_train = stars[((stars['TG'] == 0) & (stars['MIP'] >= 99.5234375) & (stars['MIP'] <= 100.109375)) | ((stars['TG'] == 1) & (stars['MIP'] >= 77.4921875) & (stars['MIP'] <= 83.7734375))]\n",
        "stars_train"
      ],
      "execution_count": 4,
      "outputs": [
        {
          "output_type": "execute_result",
          "data": {
            "text/plain": [
              "             MIP      STDIP      EKIP       SIP         MC       STDC  \\\n",
              "31     99.914062  43.919498  0.475729  0.781486   0.619565   9.440976   \n",
              "277    99.914062  42.729167  0.273129  1.437221   1.813545  13.580166   \n",
              "485    80.640625  56.308821  1.481006  1.952136  27.807692  63.855448   \n",
              "578    80.140625  34.426265  1.697879  6.213364   7.822742  38.341936   \n",
              "595    80.523438  54.076185  1.390950  1.282292  66.311873  77.549955   \n",
              "...          ...        ...       ...       ...        ...        ...   \n",
              "17026  99.570312  48.399006  0.395253  0.235198   1.287625  14.659487   \n",
              "17140  99.828125  47.239766  0.469564  0.767540   2.816054  16.659173   \n",
              "17492  99.937500  32.513879  0.747187  3.504896   1.537625  11.708532   \n",
              "17772  99.851562  45.877740  0.343986  0.484693   1.272575  12.802890   \n",
              "17791  99.734375  40.586998  0.077372  1.027500   2.474080  18.274162   \n",
              "\n",
              "             EKC          SC  TG  \n",
              "31     20.106639  475.680218   0  \n",
              "277    10.156853  133.133932   0  \n",
              "485     2.179750    3.354892   1  \n",
              "578     5.048004   24.802277   1  \n",
              "595     0.870147   -0.478376   1  \n",
              "...          ...         ...  ..  \n",
              "17026  12.538604  166.286065   0  \n",
              "17140   7.999821   78.263172   0  \n",
              "17492  12.321572  208.082555   0  \n",
              "17772  12.567951  187.122994   0  \n",
              "17791   8.191953   74.019521   0  \n",
              "\n",
              "[204 rows x 9 columns]"
            ],
            "text/html": [
              "\n",
              "  <div id=\"df-655014b4-5d91-4c93-b55c-d47a60745229\">\n",
              "    <div class=\"colab-df-container\">\n",
              "      <div>\n",
              "<style scoped>\n",
              "    .dataframe tbody tr th:only-of-type {\n",
              "        vertical-align: middle;\n",
              "    }\n",
              "\n",
              "    .dataframe tbody tr th {\n",
              "        vertical-align: top;\n",
              "    }\n",
              "\n",
              "    .dataframe thead th {\n",
              "        text-align: right;\n",
              "    }\n",
              "</style>\n",
              "<table border=\"1\" class=\"dataframe\">\n",
              "  <thead>\n",
              "    <tr style=\"text-align: right;\">\n",
              "      <th></th>\n",
              "      <th>MIP</th>\n",
              "      <th>STDIP</th>\n",
              "      <th>EKIP</th>\n",
              "      <th>SIP</th>\n",
              "      <th>MC</th>\n",
              "      <th>STDC</th>\n",
              "      <th>EKC</th>\n",
              "      <th>SC</th>\n",
              "      <th>TG</th>\n",
              "    </tr>\n",
              "  </thead>\n",
              "  <tbody>\n",
              "    <tr>\n",
              "      <th>31</th>\n",
              "      <td>99.914062</td>\n",
              "      <td>43.919498</td>\n",
              "      <td>0.475729</td>\n",
              "      <td>0.781486</td>\n",
              "      <td>0.619565</td>\n",
              "      <td>9.440976</td>\n",
              "      <td>20.106639</td>\n",
              "      <td>475.680218</td>\n",
              "      <td>0</td>\n",
              "    </tr>\n",
              "    <tr>\n",
              "      <th>277</th>\n",
              "      <td>99.914062</td>\n",
              "      <td>42.729167</td>\n",
              "      <td>0.273129</td>\n",
              "      <td>1.437221</td>\n",
              "      <td>1.813545</td>\n",
              "      <td>13.580166</td>\n",
              "      <td>10.156853</td>\n",
              "      <td>133.133932</td>\n",
              "      <td>0</td>\n",
              "    </tr>\n",
              "    <tr>\n",
              "      <th>485</th>\n",
              "      <td>80.640625</td>\n",
              "      <td>56.308821</td>\n",
              "      <td>1.481006</td>\n",
              "      <td>1.952136</td>\n",
              "      <td>27.807692</td>\n",
              "      <td>63.855448</td>\n",
              "      <td>2.179750</td>\n",
              "      <td>3.354892</td>\n",
              "      <td>1</td>\n",
              "    </tr>\n",
              "    <tr>\n",
              "      <th>578</th>\n",
              "      <td>80.140625</td>\n",
              "      <td>34.426265</td>\n",
              "      <td>1.697879</td>\n",
              "      <td>6.213364</td>\n",
              "      <td>7.822742</td>\n",
              "      <td>38.341936</td>\n",
              "      <td>5.048004</td>\n",
              "      <td>24.802277</td>\n",
              "      <td>1</td>\n",
              "    </tr>\n",
              "    <tr>\n",
              "      <th>595</th>\n",
              "      <td>80.523438</td>\n",
              "      <td>54.076185</td>\n",
              "      <td>1.390950</td>\n",
              "      <td>1.282292</td>\n",
              "      <td>66.311873</td>\n",
              "      <td>77.549955</td>\n",
              "      <td>0.870147</td>\n",
              "      <td>-0.478376</td>\n",
              "      <td>1</td>\n",
              "    </tr>\n",
              "    <tr>\n",
              "      <th>...</th>\n",
              "      <td>...</td>\n",
              "      <td>...</td>\n",
              "      <td>...</td>\n",
              "      <td>...</td>\n",
              "      <td>...</td>\n",
              "      <td>...</td>\n",
              "      <td>...</td>\n",
              "      <td>...</td>\n",
              "      <td>...</td>\n",
              "    </tr>\n",
              "    <tr>\n",
              "      <th>17026</th>\n",
              "      <td>99.570312</td>\n",
              "      <td>48.399006</td>\n",
              "      <td>0.395253</td>\n",
              "      <td>0.235198</td>\n",
              "      <td>1.287625</td>\n",
              "      <td>14.659487</td>\n",
              "      <td>12.538604</td>\n",
              "      <td>166.286065</td>\n",
              "      <td>0</td>\n",
              "    </tr>\n",
              "    <tr>\n",
              "      <th>17140</th>\n",
              "      <td>99.828125</td>\n",
              "      <td>47.239766</td>\n",
              "      <td>0.469564</td>\n",
              "      <td>0.767540</td>\n",
              "      <td>2.816054</td>\n",
              "      <td>16.659173</td>\n",
              "      <td>7.999821</td>\n",
              "      <td>78.263172</td>\n",
              "      <td>0</td>\n",
              "    </tr>\n",
              "    <tr>\n",
              "      <th>17492</th>\n",
              "      <td>99.937500</td>\n",
              "      <td>32.513879</td>\n",
              "      <td>0.747187</td>\n",
              "      <td>3.504896</td>\n",
              "      <td>1.537625</td>\n",
              "      <td>11.708532</td>\n",
              "      <td>12.321572</td>\n",
              "      <td>208.082555</td>\n",
              "      <td>0</td>\n",
              "    </tr>\n",
              "    <tr>\n",
              "      <th>17772</th>\n",
              "      <td>99.851562</td>\n",
              "      <td>45.877740</td>\n",
              "      <td>0.343986</td>\n",
              "      <td>0.484693</td>\n",
              "      <td>1.272575</td>\n",
              "      <td>12.802890</td>\n",
              "      <td>12.567951</td>\n",
              "      <td>187.122994</td>\n",
              "      <td>0</td>\n",
              "    </tr>\n",
              "    <tr>\n",
              "      <th>17791</th>\n",
              "      <td>99.734375</td>\n",
              "      <td>40.586998</td>\n",
              "      <td>0.077372</td>\n",
              "      <td>1.027500</td>\n",
              "      <td>2.474080</td>\n",
              "      <td>18.274162</td>\n",
              "      <td>8.191953</td>\n",
              "      <td>74.019521</td>\n",
              "      <td>0</td>\n",
              "    </tr>\n",
              "  </tbody>\n",
              "</table>\n",
              "<p>204 rows × 9 columns</p>\n",
              "</div>\n",
              "      <button class=\"colab-df-convert\" onclick=\"convertToInteractive('df-655014b4-5d91-4c93-b55c-d47a60745229')\"\n",
              "              title=\"Convert this dataframe to an interactive table.\"\n",
              "              style=\"display:none;\">\n",
              "        \n",
              "  <svg xmlns=\"http://www.w3.org/2000/svg\" height=\"24px\"viewBox=\"0 0 24 24\"\n",
              "       width=\"24px\">\n",
              "    <path d=\"M0 0h24v24H0V0z\" fill=\"none\"/>\n",
              "    <path d=\"M18.56 5.44l.94 2.06.94-2.06 2.06-.94-2.06-.94-.94-2.06-.94 2.06-2.06.94zm-11 1L8.5 8.5l.94-2.06 2.06-.94-2.06-.94L8.5 2.5l-.94 2.06-2.06.94zm10 10l.94 2.06.94-2.06 2.06-.94-2.06-.94-.94-2.06-.94 2.06-2.06.94z\"/><path d=\"M17.41 7.96l-1.37-1.37c-.4-.4-.92-.59-1.43-.59-.52 0-1.04.2-1.43.59L10.3 9.45l-7.72 7.72c-.78.78-.78 2.05 0 2.83L4 21.41c.39.39.9.59 1.41.59.51 0 1.02-.2 1.41-.59l7.78-7.78 2.81-2.81c.8-.78.8-2.07 0-2.86zM5.41 20L4 18.59l7.72-7.72 1.47 1.35L5.41 20z\"/>\n",
              "  </svg>\n",
              "      </button>\n",
              "      \n",
              "  <style>\n",
              "    .colab-df-container {\n",
              "      display:flex;\n",
              "      flex-wrap:wrap;\n",
              "      gap: 12px;\n",
              "    }\n",
              "\n",
              "    .colab-df-convert {\n",
              "      background-color: #E8F0FE;\n",
              "      border: none;\n",
              "      border-radius: 50%;\n",
              "      cursor: pointer;\n",
              "      display: none;\n",
              "      fill: #1967D2;\n",
              "      height: 32px;\n",
              "      padding: 0 0 0 0;\n",
              "      width: 32px;\n",
              "    }\n",
              "\n",
              "    .colab-df-convert:hover {\n",
              "      background-color: #E2EBFA;\n",
              "      box-shadow: 0px 1px 2px rgba(60, 64, 67, 0.3), 0px 1px 3px 1px rgba(60, 64, 67, 0.15);\n",
              "      fill: #174EA6;\n",
              "    }\n",
              "\n",
              "    [theme=dark] .colab-df-convert {\n",
              "      background-color: #3B4455;\n",
              "      fill: #D2E3FC;\n",
              "    }\n",
              "\n",
              "    [theme=dark] .colab-df-convert:hover {\n",
              "      background-color: #434B5C;\n",
              "      box-shadow: 0px 1px 3px 1px rgba(0, 0, 0, 0.15);\n",
              "      filter: drop-shadow(0px 1px 2px rgba(0, 0, 0, 0.3));\n",
              "      fill: #FFFFFF;\n",
              "    }\n",
              "  </style>\n",
              "\n",
              "      <script>\n",
              "        const buttonEl =\n",
              "          document.querySelector('#df-655014b4-5d91-4c93-b55c-d47a60745229 button.colab-df-convert');\n",
              "        buttonEl.style.display =\n",
              "          google.colab.kernel.accessAllowed ? 'block' : 'none';\n",
              "\n",
              "        async function convertToInteractive(key) {\n",
              "          const element = document.querySelector('#df-655014b4-5d91-4c93-b55c-d47a60745229');\n",
              "          const dataTable =\n",
              "            await google.colab.kernel.invokeFunction('convertToInteractive',\n",
              "                                                     [key], {});\n",
              "          if (!dataTable) return;\n",
              "\n",
              "          const docLinkHtml = 'Like what you see? Visit the ' +\n",
              "            '<a target=\"_blank\" href=https://colab.research.google.com/notebooks/data_table.ipynb>data table notebook</a>'\n",
              "            + ' to learn more about interactive tables.';\n",
              "          element.innerHTML = '';\n",
              "          dataTable['output_type'] = 'display_data';\n",
              "          await google.colab.output.renderOutput(dataTable, element);\n",
              "          const docLink = document.createElement('div');\n",
              "          docLink.innerHTML = docLinkHtml;\n",
              "          element.appendChild(docLink);\n",
              "        }\n",
              "      </script>\n",
              "    </div>\n",
              "  </div>\n",
              "  "
            ]
          },
          "metadata": {},
          "execution_count": 4
        }
      ]
    },
    {
      "cell_type": "code",
      "metadata": {
        "id": "O1n-sKtlafxO",
        "colab": {
          "base_uri": "https://localhost:8080/"
        },
        "outputId": "b4a7f3fa-c2ad-42f7-f0aa-64ab1e79be44"
      },
      "source": [
        "# Среднее столбца MIP\n",
        "stars_train.MIP.mean()"
      ],
      "execution_count": 5,
      "outputs": [
        {
          "output_type": "execute_result",
          "data": {
            "text/plain": [
              "90.3051087622549"
            ]
          },
          "metadata": {},
          "execution_count": 5
        }
      ]
    },
    {
      "cell_type": "markdown",
      "metadata": {
        "id": "u9mpTEhCbeT2"
      },
      "source": [
        "Выполним линейную нормировку"
      ]
    },
    {
      "cell_type": "code",
      "metadata": {
        "id": "ZHYWncHg9_dk",
        "colab": {
          "base_uri": "https://localhost:8080/",
          "height": 423
        },
        "outputId": "37cccb61-78e9-4d40-9458-d99873333713"
      },
      "source": [
        "stars_train_normed = (stars_train - stars_train.min())/(stars_train.max() - stars_train.min())\n",
        "stars_train_normed"
      ],
      "execution_count": 6,
      "outputs": [
        {
          "output_type": "execute_result",
          "data": {
            "text/plain": [
              "            MIP     STDIP      EKIP       SIP        MC      STDC       EKC  \\\n",
              "31     0.991364  0.246152  0.164194  0.113463  0.000000  0.000000  1.000000   \n",
              "277    0.991364  0.223650  0.080687  0.166068  0.007016  0.046570  0.533630   \n",
              "485    0.139206  0.480362  0.578547  0.207376  0.159756  0.612219  0.159724   \n",
              "578    0.117098  0.066691  0.667937  0.549223  0.042325  0.325166  0.294166   \n",
              "595    0.134024  0.438156  0.541428  0.153639  0.386004  0.766296  0.098339   \n",
              "...         ...       ...       ...       ...       ...       ...       ...   \n",
              "17026  0.976166  0.330833  0.131024  0.069639  0.003925  0.058714  0.645268   \n",
              "17140  0.987565  0.308919  0.161653  0.112345  0.012906  0.081212  0.432524   \n",
              "17492  0.992401  0.030539  0.276083  0.331942  0.005394  0.025512  0.635095   \n",
              "17772  0.988601  0.283171  0.109892  0.089654  0.003837  0.037825  0.646644   \n",
              "17791  0.983420  0.183154  0.000000  0.133199  0.010897  0.099382  0.441530   \n",
              "\n",
              "             SC   TG  \n",
              "31     1.000000  0.0  \n",
              "277    0.282656  0.0  \n",
              "485    0.010878  1.0  \n",
              "578    0.055792  1.0  \n",
              "595    0.002851  1.0  \n",
              "...         ...  ...  \n",
              "17026  0.352081  0.0  \n",
              "17140  0.167748  0.0  \n",
              "17492  0.439609  0.0  \n",
              "17772  0.395717  0.0  \n",
              "17791  0.158861  0.0  \n",
              "\n",
              "[204 rows x 9 columns]"
            ],
            "text/html": [
              "\n",
              "  <div id=\"df-473be0c2-5a72-4ab4-8247-bf7d1e6621d5\">\n",
              "    <div class=\"colab-df-container\">\n",
              "      <div>\n",
              "<style scoped>\n",
              "    .dataframe tbody tr th:only-of-type {\n",
              "        vertical-align: middle;\n",
              "    }\n",
              "\n",
              "    .dataframe tbody tr th {\n",
              "        vertical-align: top;\n",
              "    }\n",
              "\n",
              "    .dataframe thead th {\n",
              "        text-align: right;\n",
              "    }\n",
              "</style>\n",
              "<table border=\"1\" class=\"dataframe\">\n",
              "  <thead>\n",
              "    <tr style=\"text-align: right;\">\n",
              "      <th></th>\n",
              "      <th>MIP</th>\n",
              "      <th>STDIP</th>\n",
              "      <th>EKIP</th>\n",
              "      <th>SIP</th>\n",
              "      <th>MC</th>\n",
              "      <th>STDC</th>\n",
              "      <th>EKC</th>\n",
              "      <th>SC</th>\n",
              "      <th>TG</th>\n",
              "    </tr>\n",
              "  </thead>\n",
              "  <tbody>\n",
              "    <tr>\n",
              "      <th>31</th>\n",
              "      <td>0.991364</td>\n",
              "      <td>0.246152</td>\n",
              "      <td>0.164194</td>\n",
              "      <td>0.113463</td>\n",
              "      <td>0.000000</td>\n",
              "      <td>0.000000</td>\n",
              "      <td>1.000000</td>\n",
              "      <td>1.000000</td>\n",
              "      <td>0.0</td>\n",
              "    </tr>\n",
              "    <tr>\n",
              "      <th>277</th>\n",
              "      <td>0.991364</td>\n",
              "      <td>0.223650</td>\n",
              "      <td>0.080687</td>\n",
              "      <td>0.166068</td>\n",
              "      <td>0.007016</td>\n",
              "      <td>0.046570</td>\n",
              "      <td>0.533630</td>\n",
              "      <td>0.282656</td>\n",
              "      <td>0.0</td>\n",
              "    </tr>\n",
              "    <tr>\n",
              "      <th>485</th>\n",
              "      <td>0.139206</td>\n",
              "      <td>0.480362</td>\n",
              "      <td>0.578547</td>\n",
              "      <td>0.207376</td>\n",
              "      <td>0.159756</td>\n",
              "      <td>0.612219</td>\n",
              "      <td>0.159724</td>\n",
              "      <td>0.010878</td>\n",
              "      <td>1.0</td>\n",
              "    </tr>\n",
              "    <tr>\n",
              "      <th>578</th>\n",
              "      <td>0.117098</td>\n",
              "      <td>0.066691</td>\n",
              "      <td>0.667937</td>\n",
              "      <td>0.549223</td>\n",
              "      <td>0.042325</td>\n",
              "      <td>0.325166</td>\n",
              "      <td>0.294166</td>\n",
              "      <td>0.055792</td>\n",
              "      <td>1.0</td>\n",
              "    </tr>\n",
              "    <tr>\n",
              "      <th>595</th>\n",
              "      <td>0.134024</td>\n",
              "      <td>0.438156</td>\n",
              "      <td>0.541428</td>\n",
              "      <td>0.153639</td>\n",
              "      <td>0.386004</td>\n",
              "      <td>0.766296</td>\n",
              "      <td>0.098339</td>\n",
              "      <td>0.002851</td>\n",
              "      <td>1.0</td>\n",
              "    </tr>\n",
              "    <tr>\n",
              "      <th>...</th>\n",
              "      <td>...</td>\n",
              "      <td>...</td>\n",
              "      <td>...</td>\n",
              "      <td>...</td>\n",
              "      <td>...</td>\n",
              "      <td>...</td>\n",
              "      <td>...</td>\n",
              "      <td>...</td>\n",
              "      <td>...</td>\n",
              "    </tr>\n",
              "    <tr>\n",
              "      <th>17026</th>\n",
              "      <td>0.976166</td>\n",
              "      <td>0.330833</td>\n",
              "      <td>0.131024</td>\n",
              "      <td>0.069639</td>\n",
              "      <td>0.003925</td>\n",
              "      <td>0.058714</td>\n",
              "      <td>0.645268</td>\n",
              "      <td>0.352081</td>\n",
              "      <td>0.0</td>\n",
              "    </tr>\n",
              "    <tr>\n",
              "      <th>17140</th>\n",
              "      <td>0.987565</td>\n",
              "      <td>0.308919</td>\n",
              "      <td>0.161653</td>\n",
              "      <td>0.112345</td>\n",
              "      <td>0.012906</td>\n",
              "      <td>0.081212</td>\n",
              "      <td>0.432524</td>\n",
              "      <td>0.167748</td>\n",
              "      <td>0.0</td>\n",
              "    </tr>\n",
              "    <tr>\n",
              "      <th>17492</th>\n",
              "      <td>0.992401</td>\n",
              "      <td>0.030539</td>\n",
              "      <td>0.276083</td>\n",
              "      <td>0.331942</td>\n",
              "      <td>0.005394</td>\n",
              "      <td>0.025512</td>\n",
              "      <td>0.635095</td>\n",
              "      <td>0.439609</td>\n",
              "      <td>0.0</td>\n",
              "    </tr>\n",
              "    <tr>\n",
              "      <th>17772</th>\n",
              "      <td>0.988601</td>\n",
              "      <td>0.283171</td>\n",
              "      <td>0.109892</td>\n",
              "      <td>0.089654</td>\n",
              "      <td>0.003837</td>\n",
              "      <td>0.037825</td>\n",
              "      <td>0.646644</td>\n",
              "      <td>0.395717</td>\n",
              "      <td>0.0</td>\n",
              "    </tr>\n",
              "    <tr>\n",
              "      <th>17791</th>\n",
              "      <td>0.983420</td>\n",
              "      <td>0.183154</td>\n",
              "      <td>0.000000</td>\n",
              "      <td>0.133199</td>\n",
              "      <td>0.010897</td>\n",
              "      <td>0.099382</td>\n",
              "      <td>0.441530</td>\n",
              "      <td>0.158861</td>\n",
              "      <td>0.0</td>\n",
              "    </tr>\n",
              "  </tbody>\n",
              "</table>\n",
              "<p>204 rows × 9 columns</p>\n",
              "</div>\n",
              "      <button class=\"colab-df-convert\" onclick=\"convertToInteractive('df-473be0c2-5a72-4ab4-8247-bf7d1e6621d5')\"\n",
              "              title=\"Convert this dataframe to an interactive table.\"\n",
              "              style=\"display:none;\">\n",
              "        \n",
              "  <svg xmlns=\"http://www.w3.org/2000/svg\" height=\"24px\"viewBox=\"0 0 24 24\"\n",
              "       width=\"24px\">\n",
              "    <path d=\"M0 0h24v24H0V0z\" fill=\"none\"/>\n",
              "    <path d=\"M18.56 5.44l.94 2.06.94-2.06 2.06-.94-2.06-.94-.94-2.06-.94 2.06-2.06.94zm-11 1L8.5 8.5l.94-2.06 2.06-.94-2.06-.94L8.5 2.5l-.94 2.06-2.06.94zm10 10l.94 2.06.94-2.06 2.06-.94-2.06-.94-.94-2.06-.94 2.06-2.06.94z\"/><path d=\"M17.41 7.96l-1.37-1.37c-.4-.4-.92-.59-1.43-.59-.52 0-1.04.2-1.43.59L10.3 9.45l-7.72 7.72c-.78.78-.78 2.05 0 2.83L4 21.41c.39.39.9.59 1.41.59.51 0 1.02-.2 1.41-.59l7.78-7.78 2.81-2.81c.8-.78.8-2.07 0-2.86zM5.41 20L4 18.59l7.72-7.72 1.47 1.35L5.41 20z\"/>\n",
              "  </svg>\n",
              "      </button>\n",
              "      \n",
              "  <style>\n",
              "    .colab-df-container {\n",
              "      display:flex;\n",
              "      flex-wrap:wrap;\n",
              "      gap: 12px;\n",
              "    }\n",
              "\n",
              "    .colab-df-convert {\n",
              "      background-color: #E8F0FE;\n",
              "      border: none;\n",
              "      border-radius: 50%;\n",
              "      cursor: pointer;\n",
              "      display: none;\n",
              "      fill: #1967D2;\n",
              "      height: 32px;\n",
              "      padding: 0 0 0 0;\n",
              "      width: 32px;\n",
              "    }\n",
              "\n",
              "    .colab-df-convert:hover {\n",
              "      background-color: #E2EBFA;\n",
              "      box-shadow: 0px 1px 2px rgba(60, 64, 67, 0.3), 0px 1px 3px 1px rgba(60, 64, 67, 0.15);\n",
              "      fill: #174EA6;\n",
              "    }\n",
              "\n",
              "    [theme=dark] .colab-df-convert {\n",
              "      background-color: #3B4455;\n",
              "      fill: #D2E3FC;\n",
              "    }\n",
              "\n",
              "    [theme=dark] .colab-df-convert:hover {\n",
              "      background-color: #434B5C;\n",
              "      box-shadow: 0px 1px 3px 1px rgba(0, 0, 0, 0.15);\n",
              "      filter: drop-shadow(0px 1px 2px rgba(0, 0, 0, 0.3));\n",
              "      fill: #FFFFFF;\n",
              "    }\n",
              "  </style>\n",
              "\n",
              "      <script>\n",
              "        const buttonEl =\n",
              "          document.querySelector('#df-473be0c2-5a72-4ab4-8247-bf7d1e6621d5 button.colab-df-convert');\n",
              "        buttonEl.style.display =\n",
              "          google.colab.kernel.accessAllowed ? 'block' : 'none';\n",
              "\n",
              "        async function convertToInteractive(key) {\n",
              "          const element = document.querySelector('#df-473be0c2-5a72-4ab4-8247-bf7d1e6621d5');\n",
              "          const dataTable =\n",
              "            await google.colab.kernel.invokeFunction('convertToInteractive',\n",
              "                                                     [key], {});\n",
              "          if (!dataTable) return;\n",
              "\n",
              "          const docLinkHtml = 'Like what you see? Visit the ' +\n",
              "            '<a target=\"_blank\" href=https://colab.research.google.com/notebooks/data_table.ipynb>data table notebook</a>'\n",
              "            + ' to learn more about interactive tables.';\n",
              "          element.innerHTML = '';\n",
              "          dataTable['output_type'] = 'display_data';\n",
              "          await google.colab.output.renderOutput(dataTable, element);\n",
              "          const docLink = document.createElement('div');\n",
              "          docLink.innerHTML = docLinkHtml;\n",
              "          element.appendChild(docLink);\n",
              "        }\n",
              "      </script>\n",
              "    </div>\n",
              "  </div>\n",
              "  "
            ]
          },
          "metadata": {},
          "execution_count": 6
        }
      ]
    },
    {
      "cell_type": "code",
      "metadata": {
        "id": "kLEoQb90bJnc",
        "colab": {
          "base_uri": "https://localhost:8080/"
        },
        "outputId": "a515e2b1-f2fc-41d1-876e-9b56c9ac13f9"
      },
      "source": [
        "# Среднее столбца MIP после нормировки\n",
        "stars_train_normed.MIP.mean()"
      ],
      "execution_count": 7,
      "outputs": [
        {
          "output_type": "execute_result",
          "data": {
            "text/plain": [
              "0.566512580852721"
            ]
          },
          "metadata": {},
          "execution_count": 7
        }
      ]
    },
    {
      "cell_type": "markdown",
      "metadata": {
        "id": "gvrLNiEhbkgh"
      },
      "source": [
        "Построим классификатор на основе логистической регрессии"
      ]
    },
    {
      "cell_type": "code",
      "metadata": {
        "id": "UwgJkTNrbo86"
      },
      "source": [
        "# Предикторы\n",
        "X = pd.DataFrame(stars_train_normed.drop(['TG'], axis=1))\n",
        "# Отклики\n",
        "y = stars_train_normed.TG"
      ],
      "execution_count": 8,
      "outputs": []
    },
    {
      "cell_type": "code",
      "source": [],
      "metadata": {
        "id": "Xuq4uGZYR7en"
      },
      "execution_count": null,
      "outputs": []
    },
    {
      "cell_type": "code",
      "metadata": {
        "id": "obvugdOOb-sj"
      },
      "source": [
        "from sklearn.linear_model import LogisticRegression\n",
        "clf = LogisticRegression(random_state=2019, solver='lbfgs').fit(X, y)"
      ],
      "execution_count": 9,
      "outputs": []
    },
    {
      "cell_type": "markdown",
      "metadata": {
        "id": "lkZg10ptcd8M"
      },
      "source": [
        "Выполним предсказание для новой звезды"
      ]
    },
    {
      "cell_type": "code",
      "metadata": {
        "id": "kpfMlgmXcgzR",
        "colab": {
          "base_uri": "https://localhost:8080/"
        },
        "outputId": "a42364d4-f50f-4cac-98a2-c47d13217bee"
      },
      "source": [
        "new_star = [0.121, 0.009, 0.333, 0.335, 0.655, 0.745, 0.736, 0.536]\n",
        "clf.predict_proba([new_star])\n",
        "print('Вероятность отнесения к классу пульсар: ', clf.predict_proba([new_star])[0][1])"
      ],
      "execution_count": 10,
      "outputs": [
        {
          "output_type": "stream",
          "name": "stdout",
          "text": [
            "Вероятность отнесения к классу пульсар:  0.9087268930914426\n"
          ]
        }
      ]
    },
    {
      "cell_type": "code",
      "source": [
        "clf.predict([new_star])"
      ],
      "metadata": {
        "colab": {
          "base_uri": "https://localhost:8080/"
        },
        "id": "p38QJTYVNDr4",
        "outputId": "4a4493a4-3660-4dd8-89a0-9ec45bb3e9f1"
      },
      "execution_count": 11,
      "outputs": [
        {
          "output_type": "execute_result",
          "data": {
            "text/plain": [
              "array([1.])"
            ]
          },
          "metadata": {},
          "execution_count": 11
        }
      ]
    },
    {
      "cell_type": "markdown",
      "metadata": {
        "id": "DgRX7nZ2dI6K"
      },
      "source": [
        "KNN"
      ]
    },
    {
      "cell_type": "code",
      "metadata": {
        "id": "Te8jFtpedKt9",
        "colab": {
          "base_uri": "https://localhost:8080/",
          "height": 74
        },
        "outputId": "f1ca2557-b25a-4170-bc2d-6bb011d7d7e1"
      },
      "source": [
        "from sklearn.neighbors import KNeighborsClassifier\n",
        "# Создаем объект класса KNeighborsClassifier\n",
        "neigh = KNeighborsClassifier(n_neighbors = 1, p = 2)\n",
        "# Обучаем классификатор на тренировочных данных\n",
        "neigh.fit(X, y)"
      ],
      "execution_count": 12,
      "outputs": [
        {
          "output_type": "execute_result",
          "data": {
            "text/plain": [
              "KNeighborsClassifier(n_neighbors=1)"
            ],
            "text/html": [
              "<style>#sk-container-id-1 {color: black;background-color: white;}#sk-container-id-1 pre{padding: 0;}#sk-container-id-1 div.sk-toggleable {background-color: white;}#sk-container-id-1 label.sk-toggleable__label {cursor: pointer;display: block;width: 100%;margin-bottom: 0;padding: 0.3em;box-sizing: border-box;text-align: center;}#sk-container-id-1 label.sk-toggleable__label-arrow:before {content: \"▸\";float: left;margin-right: 0.25em;color: #696969;}#sk-container-id-1 label.sk-toggleable__label-arrow:hover:before {color: black;}#sk-container-id-1 div.sk-estimator:hover label.sk-toggleable__label-arrow:before {color: black;}#sk-container-id-1 div.sk-toggleable__content {max-height: 0;max-width: 0;overflow: hidden;text-align: left;background-color: #f0f8ff;}#sk-container-id-1 div.sk-toggleable__content pre {margin: 0.2em;color: black;border-radius: 0.25em;background-color: #f0f8ff;}#sk-container-id-1 input.sk-toggleable__control:checked~div.sk-toggleable__content {max-height: 200px;max-width: 100%;overflow: auto;}#sk-container-id-1 input.sk-toggleable__control:checked~label.sk-toggleable__label-arrow:before {content: \"▾\";}#sk-container-id-1 div.sk-estimator input.sk-toggleable__control:checked~label.sk-toggleable__label {background-color: #d4ebff;}#sk-container-id-1 div.sk-label input.sk-toggleable__control:checked~label.sk-toggleable__label {background-color: #d4ebff;}#sk-container-id-1 input.sk-hidden--visually {border: 0;clip: rect(1px 1px 1px 1px);clip: rect(1px, 1px, 1px, 1px);height: 1px;margin: -1px;overflow: hidden;padding: 0;position: absolute;width: 1px;}#sk-container-id-1 div.sk-estimator {font-family: monospace;background-color: #f0f8ff;border: 1px dotted black;border-radius: 0.25em;box-sizing: border-box;margin-bottom: 0.5em;}#sk-container-id-1 div.sk-estimator:hover {background-color: #d4ebff;}#sk-container-id-1 div.sk-parallel-item::after {content: \"\";width: 100%;border-bottom: 1px solid gray;flex-grow: 1;}#sk-container-id-1 div.sk-label:hover label.sk-toggleable__label {background-color: #d4ebff;}#sk-container-id-1 div.sk-serial::before {content: \"\";position: absolute;border-left: 1px solid gray;box-sizing: border-box;top: 0;bottom: 0;left: 50%;z-index: 0;}#sk-container-id-1 div.sk-serial {display: flex;flex-direction: column;align-items: center;background-color: white;padding-right: 0.2em;padding-left: 0.2em;position: relative;}#sk-container-id-1 div.sk-item {position: relative;z-index: 1;}#sk-container-id-1 div.sk-parallel {display: flex;align-items: stretch;justify-content: center;background-color: white;position: relative;}#sk-container-id-1 div.sk-item::before, #sk-container-id-1 div.sk-parallel-item::before {content: \"\";position: absolute;border-left: 1px solid gray;box-sizing: border-box;top: 0;bottom: 0;left: 50%;z-index: -1;}#sk-container-id-1 div.sk-parallel-item {display: flex;flex-direction: column;z-index: 1;position: relative;background-color: white;}#sk-container-id-1 div.sk-parallel-item:first-child::after {align-self: flex-end;width: 50%;}#sk-container-id-1 div.sk-parallel-item:last-child::after {align-self: flex-start;width: 50%;}#sk-container-id-1 div.sk-parallel-item:only-child::after {width: 0;}#sk-container-id-1 div.sk-dashed-wrapped {border: 1px dashed gray;margin: 0 0.4em 0.5em 0.4em;box-sizing: border-box;padding-bottom: 0.4em;background-color: white;}#sk-container-id-1 div.sk-label label {font-family: monospace;font-weight: bold;display: inline-block;line-height: 1.2em;}#sk-container-id-1 div.sk-label-container {text-align: center;}#sk-container-id-1 div.sk-container {/* jupyter's `normalize.less` sets `[hidden] { display: none; }` but bootstrap.min.css set `[hidden] { display: none !important; }` so we also need the `!important` here to be able to override the default hidden behavior on the sphinx rendered scikit-learn.org. See: https://github.com/scikit-learn/scikit-learn/issues/21755 */display: inline-block !important;position: relative;}#sk-container-id-1 div.sk-text-repr-fallback {display: none;}</style><div id=\"sk-container-id-1\" class=\"sk-top-container\"><div class=\"sk-text-repr-fallback\"><pre>KNeighborsClassifier(n_neighbors=1)</pre><b>In a Jupyter environment, please rerun this cell to show the HTML representation or trust the notebook. <br />On GitHub, the HTML representation is unable to render, please try loading this page with nbviewer.org.</b></div><div class=\"sk-container\" hidden><div class=\"sk-item\"><div class=\"sk-estimator sk-toggleable\"><input class=\"sk-toggleable__control sk-hidden--visually\" id=\"sk-estimator-id-1\" type=\"checkbox\" checked><label for=\"sk-estimator-id-1\" class=\"sk-toggleable__label sk-toggleable__label-arrow\">KNeighborsClassifier</label><div class=\"sk-toggleable__content\"><pre>KNeighborsClassifier(n_neighbors=1)</pre></div></div></div></div></div>"
            ]
          },
          "metadata": {},
          "execution_count": 12
        }
      ]
    },
    {
      "cell_type": "code",
      "metadata": {
        "id": "DWE7xlo9dZ_U",
        "colab": {
          "base_uri": "https://localhost:8080/"
        },
        "outputId": "b0f2c834-cf48-4b5d-8c23-e07527a0175a"
      },
      "source": [
        "print('Предсказанный класс: ', neigh.predict([new_star])[0])\n",
        "print('Расстояние до ближайшей звезды: ', neigh.kneighbors([new_star])[0][0][0])"
      ],
      "execution_count": 13,
      "outputs": [
        {
          "output_type": "stream",
          "name": "stdout",
          "text": [
            "Предсказанный класс:  1.0\n",
            "Расстояние до ближайшей звезды:  0.9232341746472038\n"
          ]
        }
      ]
    }
  ]
}